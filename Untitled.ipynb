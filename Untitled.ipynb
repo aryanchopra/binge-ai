{
 "cells": [
  {
   "cell_type": "code",
   "execution_count": 2,
   "metadata": {},
   "outputs": [],
   "source": [
    "import numpy as np\n",
    "import pandas as pd\n",
    "from flask import Flask, render_template, request\n",
    "from sklearn.feature_extraction.text import CountVectorizer\n",
    "from sklearn.metrics.pairwise import cosine_similarity\n",
    "import json\n",
    "import bs4 as bs\n",
    "import urllib.request\n",
    "import pickle\n",
    "import requests\n",
    " "
   ]
  },
  {
   "cell_type": "code",
   "execution_count": 23,
   "metadata": {},
   "outputs": [],
   "source": [
    "filename = 'sentiment.pkl'\n",
    "clf = pickle.load(open(filename, 'rb'))\n",
    "vectorizer = pickle.load(open('tranform.pkl','rb'))\n",
    "\n",
    "def similarity_score():\n",
    "    df = pd.read_csv('main_data.csv')\n",
    "    cv = CountVectorizer() #count matrix\n",
    "    count_matrix = cv.fit_transform(df['comb'])\n",
    "    similarity = cosine_similarity(count_matrix) # creating a similarity score matrix\n",
    "    return df,similarity\n",
    "\n",
    "def recommend(movie):\n",
    "    movie = movie.lower()\n",
    "    try:\n",
    "        df.head()\n",
    "        similarity.shape\n",
    "    except:\n",
    "        df, similarity = similarity_score()\n",
    "    if movie not in df['movie_title'].unique():\n",
    "        return('Sorry! The movie searched does not exist in our database. Try another one.')\n",
    "    else:\n",
    "        i = df.loc[df['movie_title']==movie].index[0]\n",
    "        lst = list(enumerate(similarity[i]))\n",
    "        lst = sorted(lst, key = lambda x:x[1] ,reverse=True)\n",
    "        lst = lst[1:11] # excluding first item since it is the requested movie itself\n",
    "        recoms = []\n",
    "        for i in range(len(lst)):\n",
    "            a = lst[i][0]\n",
    "            l.append(df['movie_title'][a])\n",
    "        return lst"
   ]
  },
  {
   "cell_type": "code",
   "execution_count": 27,
   "metadata": {},
   "outputs": [
    {
     "data": {
      "text/plain": [
       "['the man from u.n.c.l.e.',\n",
       " 'king arthur: legend of the sword',\n",
       " 'tower heist',\n",
       " 'bernie',\n",
       " 'triple frontier',\n",
       " 'bad boys ii',\n",
       " 'the wolf of wall street',\n",
       " 'snatch',\n",
       " 'lock, stock and two smoking barrels',\n",
       " \"fool's gold\"]"
      ]
     },
     "execution_count": 27,
     "metadata": {},
     "output_type": "execute_result"
    }
   ],
   "source": [
    "recommend('the gentlemen')"
   ]
  },
  {
   "cell_type": "code",
   "execution_count": null,
   "metadata": {},
   "outputs": [],
   "source": []
  }
 ],
 "metadata": {
  "kernelspec": {
   "display_name": "Python 3",
   "language": "python",
   "name": "python3"
  },
  "language_info": {
   "codemirror_mode": {
    "name": "ipython",
    "version": 3
   },
   "file_extension": ".py",
   "mimetype": "text/x-python",
   "name": "python",
   "nbconvert_exporter": "python",
   "pygments_lexer": "ipython3",
   "version": "3.8.5"
  }
 },
 "nbformat": 4,
 "nbformat_minor": 4
}
